{
  "nbformat": 4,
  "nbformat_minor": 0,
  "metadata": {
    "colab": {
      "provenance": []
    },
    "kernelspec": {
      "name": "python3",
      "display_name": "Python 3"
    },
    "language_info": {
      "name": "python"
    }
  },
  "cells": [
    {
      "cell_type": "code",
      "execution_count": 1,
      "metadata": {
        "id": "OZfG-ABN_V8F"
      },
      "outputs": [],
      "source": [
        "import numpy as np\n",
        "import pandas as pd\n",
        "from sklearn.model_selection import train_test_split\n",
        "from sklearn.preprocessing import StandardScaler, OneHotEncoder\n",
        "from sklearn.compose import ColumnTransformer\n",
        "from sklearn.pipeline import Pipeline\n",
        "from keras.models import Sequential\n",
        "from keras.layers import Dense\n",
        "from sklearn.metrics import mean_squared_error"
      ]
    },
    {
      "cell_type": "code",
      "source": [
        "df = pd.read_csv('/content/Housing (1).csv')\n",
        "df.head(3)"
      ],
      "metadata": {
        "colab": {
          "base_uri": "https://localhost:8080/",
          "height": 163
        },
        "id": "aN2uCdwd_dqP",
        "outputId": "bbfc47b2-2e86-4e64-bcdf-438a37669269"
      },
      "execution_count": 2,
      "outputs": [
        {
          "output_type": "execute_result",
          "data": {
            "text/plain": [
              "      price  area  bedrooms  bathrooms  stories mainroad guestroom basement  \\\n",
              "0  13300000  7420         4          2        3      yes        no       no   \n",
              "1  12250000  8960         4          4        4      yes        no       no   \n",
              "2  12250000  9960         3          2        2      yes        no      yes   \n",
              "\n",
              "  hotwaterheating airconditioning  parking prefarea furnishingstatus  \n",
              "0              no             yes        2      yes        furnished  \n",
              "1              no             yes        3       no        furnished  \n",
              "2              no              no        2      yes   semi-furnished  "
            ],
            "text/html": [
              "\n",
              "  <div id=\"df-faead3f3-4c86-40d1-9381-88a173b6ac5f\" class=\"colab-df-container\">\n",
              "    <div>\n",
              "<style scoped>\n",
              "    .dataframe tbody tr th:only-of-type {\n",
              "        vertical-align: middle;\n",
              "    }\n",
              "\n",
              "    .dataframe tbody tr th {\n",
              "        vertical-align: top;\n",
              "    }\n",
              "\n",
              "    .dataframe thead th {\n",
              "        text-align: right;\n",
              "    }\n",
              "</style>\n",
              "<table border=\"1\" class=\"dataframe\">\n",
              "  <thead>\n",
              "    <tr style=\"text-align: right;\">\n",
              "      <th></th>\n",
              "      <th>price</th>\n",
              "      <th>area</th>\n",
              "      <th>bedrooms</th>\n",
              "      <th>bathrooms</th>\n",
              "      <th>stories</th>\n",
              "      <th>mainroad</th>\n",
              "      <th>guestroom</th>\n",
              "      <th>basement</th>\n",
              "      <th>hotwaterheating</th>\n",
              "      <th>airconditioning</th>\n",
              "      <th>parking</th>\n",
              "      <th>prefarea</th>\n",
              "      <th>furnishingstatus</th>\n",
              "    </tr>\n",
              "  </thead>\n",
              "  <tbody>\n",
              "    <tr>\n",
              "      <th>0</th>\n",
              "      <td>13300000</td>\n",
              "      <td>7420</td>\n",
              "      <td>4</td>\n",
              "      <td>2</td>\n",
              "      <td>3</td>\n",
              "      <td>yes</td>\n",
              "      <td>no</td>\n",
              "      <td>no</td>\n",
              "      <td>no</td>\n",
              "      <td>yes</td>\n",
              "      <td>2</td>\n",
              "      <td>yes</td>\n",
              "      <td>furnished</td>\n",
              "    </tr>\n",
              "    <tr>\n",
              "      <th>1</th>\n",
              "      <td>12250000</td>\n",
              "      <td>8960</td>\n",
              "      <td>4</td>\n",
              "      <td>4</td>\n",
              "      <td>4</td>\n",
              "      <td>yes</td>\n",
              "      <td>no</td>\n",
              "      <td>no</td>\n",
              "      <td>no</td>\n",
              "      <td>yes</td>\n",
              "      <td>3</td>\n",
              "      <td>no</td>\n",
              "      <td>furnished</td>\n",
              "    </tr>\n",
              "    <tr>\n",
              "      <th>2</th>\n",
              "      <td>12250000</td>\n",
              "      <td>9960</td>\n",
              "      <td>3</td>\n",
              "      <td>2</td>\n",
              "      <td>2</td>\n",
              "      <td>yes</td>\n",
              "      <td>no</td>\n",
              "      <td>yes</td>\n",
              "      <td>no</td>\n",
              "      <td>no</td>\n",
              "      <td>2</td>\n",
              "      <td>yes</td>\n",
              "      <td>semi-furnished</td>\n",
              "    </tr>\n",
              "  </tbody>\n",
              "</table>\n",
              "</div>\n",
              "    <div class=\"colab-df-buttons\">\n",
              "\n",
              "  <div class=\"colab-df-container\">\n",
              "    <button class=\"colab-df-convert\" onclick=\"convertToInteractive('df-faead3f3-4c86-40d1-9381-88a173b6ac5f')\"\n",
              "            title=\"Convert this dataframe to an interactive table.\"\n",
              "            style=\"display:none;\">\n",
              "\n",
              "  <svg xmlns=\"http://www.w3.org/2000/svg\" height=\"24px\" viewBox=\"0 -960 960 960\">\n",
              "    <path d=\"M120-120v-720h720v720H120Zm60-500h600v-160H180v160Zm220 220h160v-160H400v160Zm0 220h160v-160H400v160ZM180-400h160v-160H180v160Zm440 0h160v-160H620v160ZM180-180h160v-160H180v160Zm440 0h160v-160H620v160Z\"/>\n",
              "  </svg>\n",
              "    </button>\n",
              "\n",
              "  <style>\n",
              "    .colab-df-container {\n",
              "      display:flex;\n",
              "      gap: 12px;\n",
              "    }\n",
              "\n",
              "    .colab-df-convert {\n",
              "      background-color: #E8F0FE;\n",
              "      border: none;\n",
              "      border-radius: 50%;\n",
              "      cursor: pointer;\n",
              "      display: none;\n",
              "      fill: #1967D2;\n",
              "      height: 32px;\n",
              "      padding: 0 0 0 0;\n",
              "      width: 32px;\n",
              "    }\n",
              "\n",
              "    .colab-df-convert:hover {\n",
              "      background-color: #E2EBFA;\n",
              "      box-shadow: 0px 1px 2px rgba(60, 64, 67, 0.3), 0px 1px 3px 1px rgba(60, 64, 67, 0.15);\n",
              "      fill: #174EA6;\n",
              "    }\n",
              "\n",
              "    .colab-df-buttons div {\n",
              "      margin-bottom: 4px;\n",
              "    }\n",
              "\n",
              "    [theme=dark] .colab-df-convert {\n",
              "      background-color: #3B4455;\n",
              "      fill: #D2E3FC;\n",
              "    }\n",
              "\n",
              "    [theme=dark] .colab-df-convert:hover {\n",
              "      background-color: #434B5C;\n",
              "      box-shadow: 0px 1px 3px 1px rgba(0, 0, 0, 0.15);\n",
              "      filter: drop-shadow(0px 1px 2px rgba(0, 0, 0, 0.3));\n",
              "      fill: #FFFFFF;\n",
              "    }\n",
              "  </style>\n",
              "\n",
              "    <script>\n",
              "      const buttonEl =\n",
              "        document.querySelector('#df-faead3f3-4c86-40d1-9381-88a173b6ac5f button.colab-df-convert');\n",
              "      buttonEl.style.display =\n",
              "        google.colab.kernel.accessAllowed ? 'block' : 'none';\n",
              "\n",
              "      async function convertToInteractive(key) {\n",
              "        const element = document.querySelector('#df-faead3f3-4c86-40d1-9381-88a173b6ac5f');\n",
              "        const dataTable =\n",
              "          await google.colab.kernel.invokeFunction('convertToInteractive',\n",
              "                                                    [key], {});\n",
              "        if (!dataTable) return;\n",
              "\n",
              "        const docLinkHtml = 'Like what you see? Visit the ' +\n",
              "          '<a target=\"_blank\" href=https://colab.research.google.com/notebooks/data_table.ipynb>data table notebook</a>'\n",
              "          + ' to learn more about interactive tables.';\n",
              "        element.innerHTML = '';\n",
              "        dataTable['output_type'] = 'display_data';\n",
              "        await google.colab.output.renderOutput(dataTable, element);\n",
              "        const docLink = document.createElement('div');\n",
              "        docLink.innerHTML = docLinkHtml;\n",
              "        element.appendChild(docLink);\n",
              "      }\n",
              "    </script>\n",
              "  </div>\n",
              "\n",
              "\n",
              "<div id=\"df-9d435a72-bd21-4525-8270-96bc848a052c\">\n",
              "  <button class=\"colab-df-quickchart\" onclick=\"quickchart('df-9d435a72-bd21-4525-8270-96bc848a052c')\"\n",
              "            title=\"Suggest charts\"\n",
              "            style=\"display:none;\">\n",
              "\n",
              "<svg xmlns=\"http://www.w3.org/2000/svg\" height=\"24px\"viewBox=\"0 0 24 24\"\n",
              "     width=\"24px\">\n",
              "    <g>\n",
              "        <path d=\"M19 3H5c-1.1 0-2 .9-2 2v14c0 1.1.9 2 2 2h14c1.1 0 2-.9 2-2V5c0-1.1-.9-2-2-2zM9 17H7v-7h2v7zm4 0h-2V7h2v10zm4 0h-2v-4h2v4z\"/>\n",
              "    </g>\n",
              "</svg>\n",
              "  </button>\n",
              "\n",
              "<style>\n",
              "  .colab-df-quickchart {\n",
              "      --bg-color: #E8F0FE;\n",
              "      --fill-color: #1967D2;\n",
              "      --hover-bg-color: #E2EBFA;\n",
              "      --hover-fill-color: #174EA6;\n",
              "      --disabled-fill-color: #AAA;\n",
              "      --disabled-bg-color: #DDD;\n",
              "  }\n",
              "\n",
              "  [theme=dark] .colab-df-quickchart {\n",
              "      --bg-color: #3B4455;\n",
              "      --fill-color: #D2E3FC;\n",
              "      --hover-bg-color: #434B5C;\n",
              "      --hover-fill-color: #FFFFFF;\n",
              "      --disabled-bg-color: #3B4455;\n",
              "      --disabled-fill-color: #666;\n",
              "  }\n",
              "\n",
              "  .colab-df-quickchart {\n",
              "    background-color: var(--bg-color);\n",
              "    border: none;\n",
              "    border-radius: 50%;\n",
              "    cursor: pointer;\n",
              "    display: none;\n",
              "    fill: var(--fill-color);\n",
              "    height: 32px;\n",
              "    padding: 0;\n",
              "    width: 32px;\n",
              "  }\n",
              "\n",
              "  .colab-df-quickchart:hover {\n",
              "    background-color: var(--hover-bg-color);\n",
              "    box-shadow: 0 1px 2px rgba(60, 64, 67, 0.3), 0 1px 3px 1px rgba(60, 64, 67, 0.15);\n",
              "    fill: var(--button-hover-fill-color);\n",
              "  }\n",
              "\n",
              "  .colab-df-quickchart-complete:disabled,\n",
              "  .colab-df-quickchart-complete:disabled:hover {\n",
              "    background-color: var(--disabled-bg-color);\n",
              "    fill: var(--disabled-fill-color);\n",
              "    box-shadow: none;\n",
              "  }\n",
              "\n",
              "  .colab-df-spinner {\n",
              "    border: 2px solid var(--fill-color);\n",
              "    border-color: transparent;\n",
              "    border-bottom-color: var(--fill-color);\n",
              "    animation:\n",
              "      spin 1s steps(1) infinite;\n",
              "  }\n",
              "\n",
              "  @keyframes spin {\n",
              "    0% {\n",
              "      border-color: transparent;\n",
              "      border-bottom-color: var(--fill-color);\n",
              "      border-left-color: var(--fill-color);\n",
              "    }\n",
              "    20% {\n",
              "      border-color: transparent;\n",
              "      border-left-color: var(--fill-color);\n",
              "      border-top-color: var(--fill-color);\n",
              "    }\n",
              "    30% {\n",
              "      border-color: transparent;\n",
              "      border-left-color: var(--fill-color);\n",
              "      border-top-color: var(--fill-color);\n",
              "      border-right-color: var(--fill-color);\n",
              "    }\n",
              "    40% {\n",
              "      border-color: transparent;\n",
              "      border-right-color: var(--fill-color);\n",
              "      border-top-color: var(--fill-color);\n",
              "    }\n",
              "    60% {\n",
              "      border-color: transparent;\n",
              "      border-right-color: var(--fill-color);\n",
              "    }\n",
              "    80% {\n",
              "      border-color: transparent;\n",
              "      border-right-color: var(--fill-color);\n",
              "      border-bottom-color: var(--fill-color);\n",
              "    }\n",
              "    90% {\n",
              "      border-color: transparent;\n",
              "      border-bottom-color: var(--fill-color);\n",
              "    }\n",
              "  }\n",
              "</style>\n",
              "\n",
              "  <script>\n",
              "    async function quickchart(key) {\n",
              "      const quickchartButtonEl =\n",
              "        document.querySelector('#' + key + ' button');\n",
              "      quickchartButtonEl.disabled = true;  // To prevent multiple clicks.\n",
              "      quickchartButtonEl.classList.add('colab-df-spinner');\n",
              "      try {\n",
              "        const charts = await google.colab.kernel.invokeFunction(\n",
              "            'suggestCharts', [key], {});\n",
              "      } catch (error) {\n",
              "        console.error('Error during call to suggestCharts:', error);\n",
              "      }\n",
              "      quickchartButtonEl.classList.remove('colab-df-spinner');\n",
              "      quickchartButtonEl.classList.add('colab-df-quickchart-complete');\n",
              "    }\n",
              "    (() => {\n",
              "      let quickchartButtonEl =\n",
              "        document.querySelector('#df-9d435a72-bd21-4525-8270-96bc848a052c button');\n",
              "      quickchartButtonEl.style.display =\n",
              "        google.colab.kernel.accessAllowed ? 'block' : 'none';\n",
              "    })();\n",
              "  </script>\n",
              "</div>\n",
              "\n",
              "    </div>\n",
              "  </div>\n"
            ]
          },
          "metadata": {},
          "execution_count": 2
        }
      ]
    },
    {
      "cell_type": "code",
      "source": [
        "# Separate features and target variable\n",
        "X = df.drop('price', axis=1)\n",
        "y = df['price']\n"
      ],
      "metadata": {
        "id": "Oe4XaXyM_ds5"
      },
      "execution_count": 3,
      "outputs": []
    },
    {
      "cell_type": "code",
      "source": [
        "# Split numerical and categorical features\n",
        "numerical_features = X.select_dtypes(include=['int64']).columns\n",
        "categorical_features = X.select_dtypes(include=['object']).columns"
      ],
      "metadata": {
        "id": "4izcEyYx_dve"
      },
      "execution_count": 4,
      "outputs": []
    },
    {
      "cell_type": "code",
      "source": [
        "# Build preprocessing pipeline\n",
        "numeric_transformer = StandardScaler()\n",
        "categorical_transformer = OneHotEncoder(drop='first', sparse=False)\n",
        "preprocessor = ColumnTransformer(\n",
        "    transformers=[\n",
        "        ('num', numeric_transformer, numerical_features),\n",
        "        ('cat', categorical_transformer, categorical_features)\n",
        "    ])"
      ],
      "metadata": {
        "id": "N8iQr0_g_dyI"
      },
      "execution_count": 5,
      "outputs": []
    },
    {
      "cell_type": "code",
      "source": [
        "# Apply transformations to numerical and categorical features\n",
        "X = preprocessor.fit_transform(X)"
      ],
      "metadata": {
        "colab": {
          "base_uri": "https://localhost:8080/"
        },
        "id": "jwFj1cB-_d0t",
        "outputId": "556db5b1-f032-4cd3-fe9d-8291c6674b80"
      },
      "execution_count": 6,
      "outputs": [
        {
          "output_type": "stream",
          "name": "stderr",
          "text": [
            "/usr/local/lib/python3.10/dist-packages/sklearn/preprocessing/_encoders.py:868: FutureWarning: `sparse` was renamed to `sparse_output` in version 1.2 and will be removed in 1.4. `sparse_output` is ignored unless you leave `sparse` to its default value.\n",
            "  warnings.warn(\n"
          ]
        }
      ]
    },
    {
      "cell_type": "code",
      "source": [
        "# Split into training and testing sets\n",
        "X_train, X_test, y_train, y_test = train_test_split(X, y, test_size=0.2, random_state=42)"
      ],
      "metadata": {
        "id": "wtzUKB1p_d3c"
      },
      "execution_count": 7,
      "outputs": []
    },
    {
      "cell_type": "code",
      "source": [
        "# Build the neural network model\n",
        "model = Sequential()\n",
        "model.add(Dense(64, input_dim=X_train.shape[1], activation='relu'))\n",
        "model.add(Dense(32, activation='relu'))\n",
        "model.add(Dense(1, activation='linear'))"
      ],
      "metadata": {
        "id": "9FTPH-j2_d51"
      },
      "execution_count": 8,
      "outputs": []
    },
    {
      "cell_type": "code",
      "source": [
        "# Compile the model\n",
        "model.compile(optimizer='adam', loss='mean_squared_error')"
      ],
      "metadata": {
        "id": "KVOpuEcz_d8Q"
      },
      "execution_count": 9,
      "outputs": []
    },
    {
      "cell_type": "code",
      "source": [
        "# Train the model\n",
        "model.fit(X_train, y_train, epochs=50, batch_size=32, validation_split=0.2)"
      ],
      "metadata": {
        "colab": {
          "base_uri": "https://localhost:8080/"
        },
        "id": "At45XoVj_d-5",
        "outputId": "077c7188-9c18-4ee4-9983-781b8ddebb50"
      },
      "execution_count": 10,
      "outputs": [
        {
          "output_type": "stream",
          "name": "stdout",
          "text": [
            "Epoch 1/50\n",
            "11/11 [==============================] - 4s 93ms/step - loss: 25349389811712.0000 - val_loss: 24781598490624.0000\n",
            "Epoch 2/50\n",
            "11/11 [==============================] - 0s 17ms/step - loss: 25349387714560.0000 - val_loss: 24781592199168.0000\n",
            "Epoch 3/50\n",
            "11/11 [==============================] - 0s 10ms/step - loss: 25349379325952.0000 - val_loss: 24781583810560.0000\n",
            "Epoch 4/50\n",
            "11/11 [==============================] - 0s 22ms/step - loss: 25349368840192.0000 - val_loss: 24781571227648.0000\n",
            "Epoch 5/50\n",
            "11/11 [==============================] - 0s 19ms/step - loss: 25349352062976.0000 - val_loss: 24781556547584.0000\n",
            "Epoch 6/50\n",
            "11/11 [==============================] - 0s 18ms/step - loss: 25349333188608.0000 - val_loss: 24781529284608.0000\n",
            "Epoch 7/50\n",
            "11/11 [==============================] - 0s 25ms/step - loss: 25349301731328.0000 - val_loss: 24781493633024.0000\n",
            "Epoch 8/50\n",
            "11/11 [==============================] - 0s 12ms/step - loss: 25349261885440.0000 - val_loss: 24781449592832.0000\n",
            "Epoch 9/50\n",
            "11/11 [==============================] - 0s 13ms/step - loss: 25349205262336.0000 - val_loss: 24781384581120.0000\n",
            "Epoch 10/50\n",
            "11/11 [==============================] - 0s 8ms/step - loss: 25349131862016.0000 - val_loss: 24781302792192.0000\n",
            "Epoch 11/50\n",
            "11/11 [==============================] - 0s 8ms/step - loss: 25349035393024.0000 - val_loss: 24781197934592.0000\n",
            "Epoch 12/50\n",
            "11/11 [==============================] - 0s 9ms/step - loss: 25348911661056.0000 - val_loss: 24781063716864.0000\n",
            "Epoch 13/50\n",
            "11/11 [==============================] - 0s 15ms/step - loss: 25348760666112.0000 - val_loss: 24780900139008.0000\n",
            "Epoch 14/50\n",
            "11/11 [==============================] - 0s 8ms/step - loss: 25348574019584.0000 - val_loss: 24780700909568.0000\n",
            "Epoch 15/50\n",
            "11/11 [==============================] - 0s 10ms/step - loss: 25348347527168.0000 - val_loss: 24780463931392.0000\n",
            "Epoch 16/50\n",
            "11/11 [==============================] - 0s 16ms/step - loss: 25348079091712.0000 - val_loss: 24780185010176.0000\n",
            "Epoch 17/50\n",
            "11/11 [==============================] - 0s 14ms/step - loss: 25347768713216.0000 - val_loss: 24779857854464.0000\n",
            "Epoch 18/50\n",
            "11/11 [==============================] - 0s 13ms/step - loss: 25347408003072.0000 - val_loss: 24779480367104.0000\n",
            "Epoch 19/50\n",
            "11/11 [==============================] - 0s 14ms/step - loss: 25346990669824.0000 - val_loss: 24779054645248.0000\n",
            "Epoch 20/50\n",
            "11/11 [==============================] - 0s 18ms/step - loss: 25346514616320.0000 - val_loss: 24778572300288.0000\n",
            "Epoch 21/50\n",
            "11/11 [==============================] - 0s 10ms/step - loss: 25345988231168.0000 - val_loss: 24778022846464.0000\n",
            "Epoch 22/50\n",
            "11/11 [==============================] - 0s 13ms/step - loss: 25345382154240.0000 - val_loss: 24777418866688.0000\n",
            "Epoch 23/50\n",
            "11/11 [==============================] - 0s 12ms/step - loss: 25344721551360.0000 - val_loss: 24776745680896.0000\n",
            "Epoch 24/50\n",
            "11/11 [==============================] - 0s 13ms/step - loss: 25343985451008.0000 - val_loss: 24775999094784.0000\n",
            "Epoch 25/50\n",
            "11/11 [==============================] - 0s 9ms/step - loss: 25343152881664.0000 - val_loss: 24775200079872.0000\n",
            "Epoch 26/50\n",
            "11/11 [==============================] - 0s 8ms/step - loss: 25342282563584.0000 - val_loss: 24774302498816.0000\n",
            "Epoch 27/50\n",
            "11/11 [==============================] - 0s 8ms/step - loss: 25341309485056.0000 - val_loss: 24773337808896.0000\n",
            "Epoch 28/50\n",
            "11/11 [==============================] - 0s 12ms/step - loss: 25340271394816.0000 - val_loss: 24772278747136.0000\n",
            "Epoch 29/50\n",
            "11/11 [==============================] - 0s 18ms/step - loss: 25339113766912.0000 - val_loss: 24771156770816.0000\n",
            "Epoch 30/50\n",
            "11/11 [==============================] - 0s 13ms/step - loss: 25337928876032.0000 - val_loss: 24769913159680.0000\n",
            "Epoch 31/50\n",
            "11/11 [==============================] - 0s 9ms/step - loss: 25336588795904.0000 - val_loss: 24768610828288.0000\n",
            "Epoch 32/50\n",
            "11/11 [==============================] - 0s 13ms/step - loss: 25335171121152.0000 - val_loss: 24767228805120.0000\n",
            "Epoch 33/50\n",
            "11/11 [==============================] - 0s 8ms/step - loss: 25333667463168.0000 - val_loss: 24765756604416.0000\n",
            "Epoch 34/50\n",
            "11/11 [==============================] - 0s 19ms/step - loss: 25332086210560.0000 - val_loss: 24764162768896.0000\n",
            "Epoch 35/50\n",
            "11/11 [==============================] - 0s 13ms/step - loss: 25330398003200.0000 - val_loss: 24762464075776.0000\n",
            "Epoch 36/50\n",
            "11/11 [==============================] - 0s 9ms/step - loss: 25328544120832.0000 - val_loss: 24760696176640.0000\n",
            "Epoch 37/50\n",
            "11/11 [==============================] - 0s 9ms/step - loss: 25326631518208.0000 - val_loss: 24758812934144.0000\n",
            "Epoch 38/50\n",
            "11/11 [==============================] - 0s 9ms/step - loss: 25324651806720.0000 - val_loss: 24756787085312.0000\n",
            "Epoch 39/50\n",
            "11/11 [==============================] - 0s 18ms/step - loss: 25322445602816.0000 - val_loss: 24754708807680.0000\n",
            "Epoch 40/50\n",
            "11/11 [==============================] - 0s 12ms/step - loss: 25320197455872.0000 - val_loss: 24752496312320.0000\n",
            "Epoch 41/50\n",
            "11/11 [==============================] - 0s 14ms/step - loss: 25317842354176.0000 - val_loss: 24750145404928.0000\n",
            "Epoch 42/50\n",
            "11/11 [==============================] - 0s 8ms/step - loss: 25315365617664.0000 - val_loss: 24747666571264.0000\n",
            "Epoch 43/50\n",
            "11/11 [==============================] - 0s 9ms/step - loss: 25312725303296.0000 - val_loss: 24745093365760.0000\n",
            "Epoch 44/50\n",
            "11/11 [==============================] - 0s 9ms/step - loss: 25309927702528.0000 - val_loss: 24742432079872.0000\n",
            "Epoch 45/50\n",
            "11/11 [==============================] - 0s 8ms/step - loss: 25307086061568.0000 - val_loss: 24739600924672.0000\n",
            "Epoch 46/50\n",
            "11/11 [==============================] - 0s 9ms/step - loss: 25304074551296.0000 - val_loss: 24736650231808.0000\n",
            "Epoch 47/50\n",
            "11/11 [==============================] - 0s 9ms/step - loss: 25300901560320.0000 - val_loss: 24733598875648.0000\n",
            "Epoch 48/50\n",
            "11/11 [==============================] - 0s 11ms/step - loss: 25297699209216.0000 - val_loss: 24730348290048.0000\n",
            "Epoch 49/50\n",
            "11/11 [==============================] - 0s 10ms/step - loss: 25294249394176.0000 - val_loss: 24727011721216.0000\n",
            "Epoch 50/50\n",
            "11/11 [==============================] - 0s 11ms/step - loss: 25290673750016.0000 - val_loss: 24723547226112.0000\n"
          ]
        },
        {
          "output_type": "execute_result",
          "data": {
            "text/plain": [
              "<keras.src.callbacks.History at 0x7d0fa95b4e20>"
            ]
          },
          "metadata": {},
          "execution_count": 10
        }
      ]
    },
    {
      "cell_type": "code",
      "source": [
        "# Evaluate the model on the test set\n",
        "y_pred = model.predict(X_test)\n",
        "mse = mean_squared_error(y_test, y_pred)\n",
        "print(f'Mean Squared Error on Test Set: {mse}')"
      ],
      "metadata": {
        "colab": {
          "base_uri": "https://localhost:8080/"
        },
        "id": "pfgX3DvO_eC7",
        "outputId": "33af0a12-81bf-454c-e139-882cfb5a5711"
      },
      "execution_count": 11,
      "outputs": [
        {
          "output_type": "stream",
          "name": "stdout",
          "text": [
            "4/4 [==============================] - 0s 4ms/step\n",
            "Mean Squared Error on Test Set: 30060922958912.273\n"
          ]
        }
      ]
    },
    {
      "cell_type": "code",
      "source": [
        "import matplotlib.pyplot as plt\n",
        "\n",
        "plt.scatter(y_test, y_pred)\n",
        "plt.xlabel(\"Actual Prices\")\n",
        "plt.ylabel(\"Predicted Prices\")\n",
        "plt.title(\"Actual Prices vs. Predicted Prices\")\n",
        "plt.show()"
      ],
      "metadata": {
        "colab": {
          "base_uri": "https://localhost:8080/",
          "height": 472
        },
        "id": "JmN218fB_eGS",
        "outputId": "7c178fcf-b1ff-4807-cfce-3759efbe36d8"
      },
      "execution_count": 12,
      "outputs": [
        {
          "output_type": "display_data",
          "data": {
            "text/plain": [
              "<Figure size 640x480 with 1 Axes>"
            ],
            "image/png": "[encoded data removed]"
          },
          "metadata": {}
        }
      ]
    },
    {
      "cell_type": "code",
      "source": [
        "\n",
        "from sklearn.metrics import r2_score\n",
        "\n",
        "r2 = r2_score(y_test, y_pred)\n",
        "print(f'R-squared: {r2}')"
      ],
      "metadata": {
        "colab": {
          "base_uri": "https://localhost:8080/"
        },
        "id": "9PlsLPB-_9Fn",
        "outputId": "ebf09f65-af3b-4bb6-b4ae-3a85bb710ccc"
      },
      "execution_count": 13,
      "outputs": [
        {
          "output_type": "stream",
          "name": "stdout",
          "text": [
            "R-squared: -4.947275731415929\n"
          ]
        }
      ]
    }
  ]
}